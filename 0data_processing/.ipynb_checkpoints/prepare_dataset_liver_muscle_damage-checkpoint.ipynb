{
 "cells": [
  {
   "cell_type": "code",
   "execution_count": null,
   "id": "2472fa2e-221d-4cd7-9f7f-f6d9a94d5509",
   "metadata": {},
   "outputs": [],
   "source": [
    "import pandas as pd\n",
    "import numpy as np\n",
    "import os\n",
    "\n",
    "from datetime import timedelta"
   ]
  },
  {
   "cell_type": "code",
   "execution_count": null,
   "id": "51ef9b42-bef5-4630-acb1-59e7b67e5854",
   "metadata": {},
   "outputs": [],
   "source": [
    "ca_all = pd.read_csv('../data/processed_data/processed_covariates_blood_chem_ca.csv', low_memory = False)\n",
    "all_eids = ca_all[['eid']]\n",
    "## UKB's GP Clinical Data\n",
    "gp_clinical = pd.read_csv('../data/gp_clinical.csv', low_memory = False)\n",
    "df = gp_clinical[gp_clinical['eid'].isin(all_eids['eid'])]"
   ]
  },
  {
   "cell_type": "code",
   "execution_count": null,
   "id": "f3498fb9-4064-4891-9273-afe8128e7189",
   "metadata": {},
   "outputs": [],
   "source": [
    "## Extract ALP\n",
    "read2ck = ['44F..', '44F1.', '44F2.', '44F3.', '44F4.', '44FZ.']\n",
    "read3ck = ['44F..', '44F1.', '44F2.', '44F3.', '44F4.', '44FZ.', 'X80DP', 'XE2px']\n",
    "df2ck = df2[df2['read_2'].isin(read2ck)]\n",
    "df3ck = df3[df3['read_3'].isin(read3ck)]\n",
    "dfck = pd.concat([df2ck, df3ck]).reset_index(drop = True)\n",
    "dfck.set_index('eid').to_csv('../data/processed_data/all_alp.csv')"
   ]
  },
  {
   "cell_type": "code",
   "execution_count": null,
   "id": "155a3e4f-cf01-4e9a-92b5-295bf10bd1a4",
   "metadata": {},
   "outputs": [],
   "source": [
    "## Extract CK\n",
    "read2ck = ['44H4.', '44HE.', '44HG.']\n",
    "read3ck = ['44H4.', '44HE.', '44HG.', 'XE28Y', 'XaES5', 'XaESB']\n",
    "df2ck = df2[df2['read_2'].isin(read2ck)]\n",
    "df3ck = df3[df3['read_3'].isin(read3ck)]\n",
    "dfck = pd.concat([df2ck, df3ck]).reset_index(drop = True)\n",
    "dfck.set_index('eid').to_csv('../data/processed_data/all_ck.csv')"
   ]
  },
  {
   "cell_type": "code",
   "execution_count": null,
   "id": "1a804631-a69e-4ed7-9ca7-6f7ef221afa2",
   "metadata": {},
   "outputs": [],
   "source": [
    "## Extract ALT\n",
    "read2alt = ['44G..', '44G3.', '44G30', '44G31', '44GA.', '44GB.']\n",
    "read3alt = ['44G..', '44G3.', '44G30', '44G31', 'XaIRi', 'XaLJx', 'X80DL', 'X771e', 'X80DL', 'XaLJx', 'X771f']\n",
    "df2alt = df2[df2['read_2'].isin(read2alt)]\n",
    "df3alt = df3[df3['read_3'].isin(read3alt)]\n",
    "dfalt = pd.concat([df2alt, df3alt]).reset_index(drop = True)\n",
    "dfalt.set_index('eid').to_csv('../data/processed_data/all_alt.csv')"
   ]
  },
  {
   "cell_type": "code",
   "execution_count": null,
   "id": "066744b0-3528-4ce3-99b5-b5e6c2538ad3",
   "metadata": {},
   "outputs": [],
   "source": [
    "## Extract AST\n",
    "read2ast = ['44H50', '44H51', '44H52', '44H5.', '44HB.']\n",
    "read3ast = ['44H50', '44H51', '44H52', '44H5.', '44HB.', 'X771i', 'X80De', ]\n",
    "df2ast = df2[df2['read_2'].isin(read2ast)]\n",
    "df3ast = df3[df3['read_3'].isin(read3ast)]\n",
    "dfast = pd.concat([df2ast, df3ast]).reset_index(drop = True)\n",
    "dfast.set_index('eid').to_csv('../data/processed_data/all_ast.csv')"
   ]
  },
  {
   "cell_type": "code",
   "execution_count": null,
   "id": "e811ebe7-e0bf-4e0e-9425-5a66b51b54d7",
   "metadata": {},
   "outputs": [],
   "source": [
    "## Extract GGT\n",
    "read2ggt = ['44G4.', '44G40', '44G41', '44G7.', '44G9.']\n",
    "read3ggt = ['XE28U', 'X80E1', '44G4.', '44G40', '44G41', 'XaES4', 'XaES3', 'XM1D6']\n",
    "df2ggt = df2[df2['read_2'].isin(read2ggt)]\n",
    "df3ggt = df3[df3['read_3'].isin(read3ggt)]\n",
    "dfggt = pd.concat([df2ggt, df3ggt]).reset_index(drop = True)\n",
    "dfggt.set_index('eid').to_csv('../data/processed_data/all_ggt.csv')"
   ]
  },
  {
   "cell_type": "code",
   "execution_count": null,
   "id": "a6fbf4f6-d6db-4d91-93a7-ea0a7a6ce731",
   "metadata": {},
   "outputs": [],
   "source": [
    "## Extract ALbumin\n",
    "read2alb = ['44M4.', '44M40', '44M41', '44MI.']\n",
    "read3alb = ['44M4.', '44M40', '44M41', 'X772i', 'XE2eA']\n",
    "df2alb = df2[df2['read_2'].isin(read2alb)]\n",
    "df3alb = df3[df3['read_3'].isin(read3alb)]\n",
    "dfalb = pd.concat([df2alb, df3alb]).reset_index(drop = True)\n",
    "dfalb.set_index('eid').to_csv('../data/processed_data/all_alb.csv')"
   ]
  },
  {
   "cell_type": "code",
   "execution_count": null,
   "id": "82bf4f01-0dcf-414d-9dfc-a350b4247b47",
   "metadata": {},
   "outputs": [],
   "source": [
    "## Extract Bilirubin\n",
    "read2ck = ['44E..', '44E1.', '44E2.', '44E3.', '44E6.', '44E9.', '44EZ.', '44EC.']\n",
    "read3ck = ['44E..', '44E1.', '44E2.', '44E3.', '44E6.', '44EZ.', '44EC.', 'XE28O', 'XE2qu', 'Xa972', 'XaERu', 'XaETf']\n",
    "df2bil = df2[df2['read_2'].isin(read2bil)]\n",
    "df3bil = df3[df3['read_3'].isin(read3bil)]\n",
    "dfbil = pd.concat([df2bil, df3bil]).reset_index(drop = True)\n",
    "dfbil.set_index('eid').to_csv('../data/processed_data/all_bil.csv')"
   ]
  },
  {
   "cell_type": "code",
   "execution_count": null,
   "id": "938b1a5c-3bba-4dbf-840a-74196f2410b5",
   "metadata": {},
   "outputs": [],
   "source": [
    "cov = pd.read_csv('../data/processed_data/processed_covariates_blood_chem_ca.csv')"
   ]
  },
  {
   "cell_type": "code",
   "execution_count": null,
   "id": "1cd35a37-781b-4534-9f39-1cefeb98d994",
   "metadata": {},
   "outputs": [],
   "source": [
    "c1 = cov[['f.eid', 'blood_time']]\n",
    "c1.columns = ['eid', 'blood_date']\n",
    "cov1 = cov[['f.eid', 'gender']]\n",
    "cov1.columns = ['eid', 'gender']"
   ]
  },
  {
   "cell_type": "code",
   "execution_count": null,
   "id": "11f9ca98-8a60-40d2-a934-520f5e1c7817",
   "metadata": {},
   "outputs": [],
   "source": [
    "dfalt = pd.read_csv('../data/processed_data/all_alt.csv', low_memory=False)\n",
    "dfast = pd.read_csv('../data/processed_data/all_ast.csv', low_memory=False)\n",
    "dfggt = pd.read_csv('../data/processed_data/all_ggt.csv', low_memory=False)\n",
    "dfck = pd.read_csv('../data/processed_data/all_ck.csv', low_memory=False)\n",
    "dfbil = pd.read_csv('../data/processed_data/all_tb.csv', low_memory=False)\n",
    "dfalb = pd.read_csv('../data/processed_data/all_alb.csv', low_memory=False)\n",
    "dfalp = pd.read_csv('../data/processed_data/all_alp.csv', low_memory=False)\n",
    "dfbas = pd.read_csv('../data/processed_data/all_bas.csv', low_memory=False)"
   ]
  },
  {
   "cell_type": "code",
   "execution_count": null,
   "id": "58f3f919-b409-4a35-9769-e66ce0e29fad",
   "metadata": {},
   "outputs": [],
   "source": [
    "def process_ct(df):\n",
    "    df['value1'] = pd.to_numeric(df['value1'], errors='coerce')\n",
    "    df['value2'] = pd.to_numeric(df['value2'], errors='coerce')\n",
    "    df['value3'] = pd.to_numeric(df['value3'], errors='coerce')\n",
    "    df['value'] = df['value1']\n",
    "    df['value'] = df['value'].fillna(df['value2'])\n",
    "    df['value'] = df['value'].fillna(df['value3'])\n",
    "    df = df[['eid', 'event_dt', 'value']]\n",
    "    df['value'] = df['value'].replace(0, np.nan)\n",
    "    df = df.dropna(subset = ['eid', 'event_dt', 'value']).reset_index(drop = True)\n",
    "    df = df.rename(columns = {'event_dt': 'ct_date'})\n",
    "    return df\n",
    "dfalt = process_ct(dfalt)\n",
    "dfast = process_ct(dfast)\n",
    "dfggt = process_ct(dfggt)\n",
    "dfck = process_ct(dfck)\n",
    "dfbil = process_ct(dfbil)\n",
    "dfalb = process_ct(dfalb)\n",
    "dfalp = process_ct(dfalp)\n",
    "dfbas = process_ct(dfbas)"
   ]
  },
  {
   "cell_type": "code",
   "execution_count": null,
   "id": "0f5876f8-c27e-4e9d-af22-a5a26a08c77b",
   "metadata": {},
   "outputs": [],
   "source": [
    "d2 = pd.read_csv('C10AA.csv', low_memory = False)\n",
    "d2a = d2[['eid', 'event_dt']].drop_duplicates()\n",
    "d2a['C10AA'] = 1"
   ]
  },
  {
   "cell_type": "code",
   "execution_count": null,
   "id": "0ebccc09-3df9-43a2-a62c-872a8e4c9094",
   "metadata": {},
   "outputs": [],
   "source": [
    "ca_all = pd.merge(cov, c1, on = 'eid')\n",
    "ca_all"
   ]
  },
  {
   "cell_type": "code",
   "execution_count": null,
   "id": "bb782da3-0601-404a-b5ee-c986cc4cf654",
   "metadata": {},
   "outputs": [],
   "source": [
    "def combine_med(df):\n",
    "    time_window = timedelta(days=3 * 365 + 1)\n",
    "    df['lower_bound'] = pd.to_datetime(df['blood_date']) - time_window\n",
    "    dfa = df.copy()\n",
    "    dfa2 = pd.merge(dfa, d2a, on='eid')\n",
    "    dfa2['event_dt'] = pd.to_datetime(dfa2['event_dt'])\n",
    "    dfa2['blood_date'] = pd.to_datetime(dfa2['blood_date'])\n",
    "    dfa2 = dfa2[dfa2['event_dt'] <= dfa2['blood_date']] \n",
    "    dfa2 = dfa2[dfa2['lower_bound'] <= dfa2['event_dt']]\n",
    "    dfa2 = dfa2[['eid', 'C10AA']].drop_duplicates().reset_index(drop=True)\n",
    "    df = pd.merge(df, dfa2, on='eid', how='left')\n",
    "    df['C10AA'] = df['C10AA'].fillna(0)\n",
    "    return df\n",
    "ca_all = combine_med(ca_all)\n",
    "ca_all['C10'] = ca_all[['C10AA']].max(axis=1)\n",
    "ca_all"
   ]
  },
  {
   "cell_type": "code",
   "execution_count": null,
   "id": "5ed35d94-89e0-48cb-a831-8d720886cffd",
   "metadata": {},
   "outputs": [],
   "source": [
    "da1 = d1[['eid', 'event_dt']].drop_duplicates().dropna()\n",
    "da2 = d2[['eid', 'event_dt']].drop_duplicates().dropna()\n",
    "da1 = da1.sort_values(['eid', 'event_dt']).reset_index(drop = True)\n",
    "da2 = da2.sort_values(['eid', 'event_dt']).reset_index(drop = True)\n",
    "\n",
    "first_da1 = da1.groupby('eid').first().reset_index()\n",
    "last_da1 = da1.groupby('eid').last().reset_index()\n",
    "da1 = pd.merge(first_da1, last_da1, on='eid', suffixes=('_first', '_last'))\n",
    "\n",
    "first_da2 = da2.groupby('eid').first().reset_index()\n",
    "last_da2 = da2.groupby('eid').last().reset_index()\n",
    "da2 = pd.merge(first_da2, last_da2, on='eid', suffixes=('_first', '_last'))"
   ]
  },
  {
   "cell_type": "code",
   "execution_count": null,
   "id": "ed78da30-cb21-4cf1-990e-813dcbb2d1be",
   "metadata": {},
   "outputs": [],
   "source": [
    "ca_all_statin1 = ca_all[ca_all['C10AA'] == 1]\n",
    "ca_all_statin0 = ca_all[ca_all['C10AA'] == 0]\n",
    "ca_all_statin1 = pd.merge(ca_all_statin1, da2, on = 'eid')\n",
    "ca_all_statin1['blood_date'] = pd.to_datetime(ca_all_statin1['blood_date'])\n",
    "ca_all_statin1['event_dt_last'] = pd.to_datetime(ca_all_statin1['event_dt_last'])\n",
    "ca_all_statin1['event_dt_first'] = pd.to_datetime(ca_all_statin1['event_dt_first'])\n",
    "ca_all_statin11 = ca_all_statin1[ca_all_statin1['blood_date'] < ca_all_statin1['event_dt_last']]\n",
    "ca_all_statin10 = ca_all_statin1[ca_all_statin1['blood_date'] >= ca_all_statin1['event_dt_last']]\n",
    "ca_all_statin10['event_dt_last_plus_91'] = ca_all_statin10['event_dt_last'] + pd.to_timedelta(91, unit='days')\n",
    "ca_all_statin10['end_date'] = ca_all_statin10[['blood_date', 'event_dt_last_plus_91']].min(axis=1)\n",
    "ca_all_statin10['start_date'] = ca_all_statin10[['lower_bound', 'event_dt_first']].max(axis=1)\n",
    "ca_all_statin10 = ca_all_statin10.drop(['event_dt_last_plus_91'], axis = 1)\n",
    "statin10 = ca_all_statin10[['eid', 'gender', 'start_date', 'end_date']]\n",
    "statin11 = ca_all_statin11.copy()\n",
    "statin11['end_date'] = statin11['blood_date']\n",
    "statin11['start_date'] = statin11[['lower_bound', 'event_dt_first']].max(axis=1)\n",
    "statin11 = statin11[['eid', 'gender','start_date', 'end_date']]\n",
    "statin1 = pd.concat([statin10, statin11]).reset_index(drop = True)\n",
    "statin1"
   ]
  },
  {
   "cell_type": "code",
   "execution_count": null,
   "id": "c3a99173-c74b-4e31-8eab-4d95e138fdc5",
   "metadata": {},
   "outputs": [],
   "source": [
    "dfck1 = pd.merge(statin1, dfck, on = 'eid', how ='left')\n",
    "dfck1['GSI'] = 0\n",
    "dfck1 = dfck1[dfck1['start_date'] <= dfck1['ct_date']]\n",
    "dfck1 = dfck1[dfck1['ct_date'] <= dfck1['end_date']]\n",
    "dfck1['GSI'] = np.where(\n",
    "    ((dfck1['gender'] == 1) & (dfck1['value'] >= 180)) | ((dfck1['gender'] == 0) & (dfck1['value'] >= 120)),\n",
    "    1,\n",
    "    0\n",
    ")\n",
    "dfck1 = dfck1.groupby('eid')['GSI'].max().reset_index()\n",
    "eids = dfck1[['eid']]\n",
    "print(len(dfck1))\n",
    "\n",
    "\n",
    "dfck2 = pd.merge(ca_all_statin0[['eid', 'lower_bound', 'blood_date']], dfck, on = 'eid', how ='left')\n",
    "dfck2 = pd.merge(dfck2, cov1, on = 'eid', how ='left')\n",
    "dfck2['GSI'] = 0\n",
    "dfck2 = dfck2[dfck2['lower_bound'] <= dfck2['ct_date']]\n",
    "dfck2 = dfck2[dfck2['ct_date'] <= dfck2['blood_date']]\n",
    "dfck2['GSI'] = np.where(\n",
    "    ((dfck2['gender'] == 1) & (dfck2['value'] >= 180)) | ((dfck2['gender'] == 0) & (dfck2['value'] >= 120)),\n",
    "    1,\n",
    "    0\n",
    ")\n",
    "dfck2 = dfck2.groupby('eid')['GSI'].max().reset_index()\n",
    "eids = dfck2[['eid']]\n",
    "print(len(dfck2))\n",
    "\n",
    "dfcka = pd.concat([dfck1, dfck2])\n",
    "\n",
    "ca_all1 = pd.merge(ca_all, dfcka, on = 'eid', how = 'left')\n",
    "ca_all1"
   ]
  },
  {
   "cell_type": "code",
   "execution_count": null,
   "id": "24a1c959-692c-4165-8956-32b75c3b82ed",
   "metadata": {},
   "outputs": [],
   "source": [
    "dfck1 = pd.merge(statin1, dfck, on = 'eid', how ='left')\n",
    "dfck1['SRM'] = 0\n",
    "dfck1 = dfck1[dfck1['start_date'] <= dfck1['ct_date']]\n",
    "dfck1 = dfck1[dfck1['ct_date'] <= dfck1['end_date']]\n",
    "dfck1['SRM'] = np.where(\n",
    "    ((dfck1['gender'] == 1) & (dfck1['value'] >= 180*4)) | ((dfck1['gender'] == 0) & (dfck1['value'] >= 120*4)),\n",
    "    1,\n",
    "    0\n",
    ")\n",
    "dfck1 = dfck1.groupby('eid')['SRM'].max().reset_index()\n",
    "eids = dfck1[['eid']]\n",
    "print(len(dfck1))\n",
    "\n",
    "\n",
    "dfck2 = pd.merge(ca_all_statin0[['eid', 'lower_bound', 'blood_date']], dfck, on = 'eid', how ='left')\n",
    "dfck2 = pd.merge(dfck2, cov1, on = 'eid', how ='left')\n",
    "dfck2['SRM'] = 0\n",
    "dfck2 = dfck2[dfck2['lower_bound'] <= dfck2['ct_date']]\n",
    "dfck2 = dfck2[dfck2['ct_date'] <= dfck2['blood_date']]\n",
    "dfck2['SRM'] = np.where(\n",
    "    ((dfck2['gender'] == 1) & (dfck2['value'] >= 180*4)) | ((dfck2['gender'] == 0) & (dfck2['value'] >= 120*4)),\n",
    "    1,\n",
    "    0\n",
    ")\n",
    "dfck2 = dfck2.groupby('eid')['SRM'].max().reset_index()\n",
    "eids = dfck2[['eid']]\n",
    "print(len(dfck2))\n",
    "\n",
    "dfcka = pd.concat([dfck1, dfck2])\n",
    "\n",
    "ca_all1 = pd.merge(ca_all1, dfcka, on = 'eid', how = 'left')\n",
    "ca_all1"
   ]
  },
  {
   "cell_type": "code",
   "execution_count": null,
   "id": "9756e8a8-3ff5-43fc-b3e9-6b6f7c95ce2f",
   "metadata": {},
   "outputs": [],
   "source": [
    "dfck1 = pd.merge(statin1, dfck, on = 'eid', how ='left')\n",
    "dfck1 = dfck1[dfck1['start_date'] <= dfck1['ct_date']]\n",
    "dfck1 = dfck1[dfck1['ct_date'] <= dfck1['end_date']]\n",
    "dfck1 = dfck1.sort_values(['eid', 'ct_date'])\n",
    "dfck1 = dfck1.groupby('eid').last().reset_index()\n",
    "dfck1 = dfck1[['eid', 'value']]\n",
    "\n",
    "\n",
    "dfck2 = pd.merge(ca_all1[['eid', 'lower_bound', 'blood_date']], dfck, on = 'eid', how ='left')\n",
    "dfck2 = dfck2[~dfck2['eid'].isin(dfck1['eid'])]\n",
    "dfck2 = dfck2[dfck2['lower_bound'] <= dfck2['ct_date']]\n",
    "dfck2 = dfck2[dfck2['ct_date'] <= dfck2['blood_date']]\n",
    "dfck2 = dfck2.sort_values(['eid', 'ct_date'])\n",
    "dfck2 = dfck2.groupby('eid').last().reset_index()\n",
    "dfck2 = dfck2[['eid', 'value']]\n",
    "\n",
    "dfcks = pd.concat([dfck1, dfck2])\n",
    "dfcks.columns = ['eid', 'ck']\n",
    "ca_all1 = pd.merge(ca_all1, dfcks, on = 'eid', how = 'left')\n",
    "ca_all1"
   ]
  },
  {
   "cell_type": "code",
   "execution_count": null,
   "id": "7907dd05-398f-4b0c-a297-e5a2ed0db210",
   "metadata": {},
   "outputs": [],
   "source": [
    "dfck1 = pd.merge(statin1, dfalt, on = 'eid', how ='left')\n",
    "dfck1 = dfck1[dfck1['start_date'] <= dfck1['ct_date']]\n",
    "dfck1 = dfck1[dfck1['ct_date'] <= dfck1['end_date']]\n",
    "dfck1 = dfck1.sort_values(['eid', 'ct_date'])\n",
    "dfck1 = dfck1.groupby('eid').last().reset_index()\n",
    "dfck1 = dfck1[['eid', 'value']]\n",
    "\n",
    "\n",
    "dfck2 = pd.merge(ca_all1[['eid', 'lower_bound', 'blood_date']], dfck, on = 'eid', how ='left')\n",
    "dfck2 = dfck2[~dfck2['eid'].isin(dfck1['eid'])]\n",
    "dfck2 = dfck2[dfck2['lower_bound'] <= dfck2['ct_date']]\n",
    "dfck2 = dfck2[dfck2['ct_date'] <= dfck2['blood_date']]\n",
    "dfck2 = dfck2.sort_values(['eid', 'ct_date'])\n",
    "dfck2 = dfck2.groupby('eid').last().reset_index()\n",
    "dfck2 = dfck2[['eid', 'value']]\n",
    "\n",
    "dfcks = pd.concat([dfck1, dfck2])\n",
    "dfcks.columns = ['eid', 'alt']\n",
    "ca_all1 = pd.merge(ca_all1, dfcks, on = 'eid', how = 'left')\n",
    "ca_all1"
   ]
  },
  {
   "cell_type": "code",
   "execution_count": null,
   "id": "14c68aa2-24a2-41ac-8520-2180a04b0685",
   "metadata": {},
   "outputs": [],
   "source": [
    "dfck1 = pd.merge(statin1, dfast, on = 'eid', how ='left')\n",
    "dfck1 = dfck1[dfck1['start_date'] <= dfck1['ct_date']]\n",
    "dfck1 = dfck1[dfck1['ct_date'] <= dfck1['end_date']]\n",
    "dfck1 = dfck1.sort_values(['eid', 'ct_date'])\n",
    "dfck1 = dfck1.groupby('eid').last().reset_index()\n",
    "dfck1 = dfck1[['eid', 'value']]\n",
    "\n",
    "\n",
    "dfck2 = pd.merge(ca_all1[['eid', 'lower_bound', 'blood_date']], dfck, on = 'eid', how ='left')\n",
    "dfck2 = dfck2[~dfck2['eid'].isin(dfck1['eid'])]\n",
    "dfck2 = dfck2[dfck2['lower_bound'] <= dfck2['ct_date']]\n",
    "dfck2 = dfck2[dfck2['ct_date'] <= dfck2['blood_date']]\n",
    "dfck2 = dfck2.sort_values(['eid', 'ct_date'])\n",
    "dfck2 = dfck2.groupby('eid').last().reset_index()\n",
    "dfck2 = dfck2[['eid', 'value']]\n",
    "\n",
    "dfcks = pd.concat([dfck1, dfck2])\n",
    "dfcks.columns = ['eid', 'ast']\n",
    "ca_all1 = pd.merge(ca_all1, dfcks, on = 'eid', how = 'left')\n",
    "ca_all1"
   ]
  },
  {
   "cell_type": "code",
   "execution_count": null,
   "id": "3fc0ce35-2ba1-4f63-aa9b-b5803acce0e9",
   "metadata": {},
   "outputs": [],
   "source": [
    "dfck1 = pd.merge(statin1, dfggt, on = 'eid', how ='left')\n",
    "dfck1 = dfck1[dfck1['start_date'] <= dfck1['ct_date']]\n",
    "dfck1 = dfck1[dfck1['ct_date'] <= dfck1['end_date']]\n",
    "dfck1 = dfck1.sort_values(['eid', 'ct_date'])\n",
    "dfck1 = dfck1.groupby('eid').last().reset_index()\n",
    "dfck1 = dfck1[['eid', 'value']]\n",
    "\n",
    "\n",
    "dfck2 = pd.merge(ca_all1[['eid', 'lower_bound', 'blood_date']], dfck, on = 'eid', how ='left')\n",
    "dfck2 = dfck2[~dfck2['eid'].isin(dfck1['eid'])]\n",
    "dfck2 = dfck2[dfck2['lower_bound'] <= dfck2['ct_date']]\n",
    "dfck2 = dfck2[dfck2['ct_date'] <= dfck2['blood_date']]\n",
    "dfck2 = dfck2.sort_values(['eid', 'ct_date'])\n",
    "dfck2 = dfck2.groupby('eid').last().reset_index()\n",
    "dfck2 = dfck2[['eid', 'value']]\n",
    "\n",
    "dfcks = pd.concat([dfck1, dfck2])\n",
    "dfcks.columns = ['eid', 'ggt']\n",
    "ca_all1 = pd.merge(ca_all1, dfcks, on = 'eid', how = 'left')\n",
    "ca_all1"
   ]
  },
  {
   "cell_type": "code",
   "execution_count": null,
   "id": "24e4f52c-236d-4eca-ab64-6289321d19f5",
   "metadata": {},
   "outputs": [],
   "source": [
    "dfck1 = pd.merge(statin1, dfbil, on = 'eid', how ='left')\n",
    "dfck1 = dfck1[dfck1['start_date'] <= dfck1['ct_date']]\n",
    "dfck1 = dfck1[dfck1['ct_date'] <= dfck1['end_date']]\n",
    "dfck1 = dfck1.sort_values(['eid', 'ct_date'])\n",
    "dfck1 = dfck1.groupby('eid').last().reset_index()\n",
    "dfck1 = dfck1[['eid', 'value']]\n",
    "\n",
    "dfck2 = pd.merge(ca_all1[['eid', 'lower_bound', 'blood_date']], dfck, on = 'eid', how ='left')\n",
    "dfck2 = dfck2[~dfck2['eid'].isin(dfck1['eid'])]\n",
    "dfck2 = dfck2[dfck2['lower_bound'] <= dfck2['ct_date']]\n",
    "dfck2 = dfck2[dfck2['ct_date'] <= dfck2['blood_date']]\n",
    "dfck2 = dfck2.sort_values(['eid', 'ct_date'])\n",
    "dfck2 = dfck2.groupby('eid').last().reset_index()\n",
    "dfck2 = dfck2[['eid', 'value']]\n",
    "\n",
    "dfcks = pd.concat([dfck1, dfck2])\n",
    "dfcks.columns = ['eid', 'bil']\n",
    "ca_all1 = pd.merge(ca_all1, dfcks, on = 'eid', how = 'left')\n",
    "ca_all1"
   ]
  },
  {
   "cell_type": "code",
   "execution_count": null,
   "id": "bd6acac9-c9d1-4eea-8730-3243d84cea7f",
   "metadata": {},
   "outputs": [],
   "source": [
    "dfck1 = pd.merge(statin1, dfalb, on = 'eid', how ='left')\n",
    "dfck1 = dfck1[dfck1['start_date'] <= dfck1['ct_date']]\n",
    "dfck1 = dfck1[dfck1['ct_date'] <= dfck1['end_date']]\n",
    "dfck1 = dfck1.sort_values(['eid', 'ct_date'])\n",
    "dfck1 = dfck1.groupby('eid').last().reset_index()\n",
    "dfck1 = dfck1[['eid', 'value']]\n",
    "\n",
    "\n",
    "dfck2 = pd.merge(ca_all1[['eid', 'lower_bound', 'blood_date']], dfck, on = 'eid', how ='left')\n",
    "dfck2 = dfck2[~dfck2['eid'].isin(dfck1['eid'])]\n",
    "dfck2 = dfck2[dfck2['lower_bound'] <= dfck2['ct_date']]\n",
    "dfck2 = dfck2[dfck2['ct_date'] <= dfck2['blood_date']]\n",
    "dfck2 = dfck2.sort_values(['eid', 'ct_date'])\n",
    "dfck2 = dfck2.groupby('eid').last().reset_index()\n",
    "dfck2 = dfck2[['eid', 'value']]\n",
    "\n",
    "dfcks = pd.concat([dfck1, dfck2])\n",
    "dfcks.columns = ['eid', 'alb']\n",
    "ca_all1 = pd.merge(ca_all1, dfcks, on = 'eid', how = 'left')\n",
    "ca_all1"
   ]
  },
  {
   "cell_type": "code",
   "execution_count": null,
   "id": "024bf874-4fd7-428f-8596-b293c19ef362",
   "metadata": {},
   "outputs": [],
   "source": [
    "dfck1 = pd.merge(statin1, dfalp, on = 'eid', how ='left')\n",
    "dfck1 = dfck1[dfck1['start_date'] <= dfck1['ct_date']]\n",
    "dfck1 = dfck1[dfck1['ct_date'] <= dfck1['end_date']]\n",
    "dfck1 = dfck1.sort_values(['eid', 'ct_date'])\n",
    "dfck1 = dfck1.groupby('eid').last().reset_index()\n",
    "dfck1 = dfck1[['eid', 'value']]\n",
    "\n",
    "dfck2 = pd.merge(ca_all1[['eid', 'lower_bound', 'blood_date']], dfck, on = 'eid', how ='left')\n",
    "dfck2 = dfck2[~dfck2['eid'].isin(dfck1['eid'])]\n",
    "dfck2 = dfck2[dfck2['lower_bound'] <= dfck2['ct_date']]\n",
    "dfck2 = dfck2[dfck2['ct_date'] <= dfck2['blood_date']]\n",
    "dfck2 = dfck2.sort_values(['eid', 'ct_date'])\n",
    "dfck2 = dfck2.groupby('eid').last().reset_index()\n",
    "dfck2 = dfck2[['eid', 'value']]\n",
    "\n",
    "dfcks = pd.concat([dfck1, dfck2])\n",
    "dfcks.columns = ['eid', 'alp']\n",
    "ca_all1 = pd.merge(ca_all1, dfcks, on = 'eid', how = 'left')\n",
    "ca_all1"
   ]
  },
  {
   "cell_type": "code",
   "execution_count": null,
   "id": "d5208b57-3610-43b3-a3f8-ea4fa05d1609",
   "metadata": {},
   "outputs": [],
   "source": [
    "ca_all1 = ca_all1[['eid', 'alt', 'ast', 'ggt', 'ck', 'bil', 'alb', 'alp', 'GSI', 'SRM']].drop_duplicates().reset_index(drop = True)"
   ]
  },
  {
   "cell_type": "code",
   "execution_count": null,
   "id": "f3b7ca68-69a5-4d54-b5f9-9bd1ec59875a",
   "metadata": {},
   "outputs": [],
   "source": [
    "ca_all1.set_index('eid').to_csv('../data/processed_data/clinical_markers.csv')"
   ]
  }
 ],
 "metadata": {
  "kernelspec": {
   "display_name": "Python 3",
   "language": "python",
   "name": "python3"
  },
  "language_info": {
   "codemirror_mode": {
    "name": "ipython",
    "version": 3
   },
   "file_extension": ".py",
   "mimetype": "text/x-python",
   "name": "python",
   "nbconvert_exporter": "python",
   "pygments_lexer": "ipython3",
   "version": "3.8.8"
  }
 },
 "nbformat": 4,
 "nbformat_minor": 5
}
